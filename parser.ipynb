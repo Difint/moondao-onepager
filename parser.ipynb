{
 "cells": [
  {
   "cell_type": "markdown",
   "id": "67d12d4b-da29-48c1-8214-dfb1ff1b536a",
   "metadata": {},
   "source": [
    "# MoonDAO Governance Proposals and Decisions\n",
    "\n",
    "This file extracts data about proposals from MoonDAO's [snapshot](https://snapshot.org/#/tomoondao.eth) and saves to csv for future analysis"
   ]
  },
  {
   "cell_type": "code",
   "execution_count": null,
   "id": "82e60bb9",
   "metadata": {},
   "outputs": [],
   "source": [
    "#this project uses selenium and pandas libra\n",
    "#installing \n",
    "!pip3 install selenium\n",
    "!pip3 install pandas"
   ]
  },
  {
   "cell_type": "code",
   "execution_count": null,
   "id": "feaf281f",
   "metadata": {},
   "outputs": [],
   "source": [
    "#downloading and unzipping driver\n",
    "#get url for your system from this link https://sites.google.com/chromium.org/driver/downloads\n",
    "#select the right driver from the link above based on your OS and Chrome version\n",
    "!wget [find url in the link above]\n",
    "!unzip [insert filename of the downloaded driver]"
   ]
  },
  {
   "cell_type": "code",
   "execution_count": null,
   "id": "bcc8df65",
   "metadata": {},
   "outputs": [],
   "source": [
    "from selenium import webdriver\n",
    "from selenium.webdriver.common.keys import Keys\n",
    "from selenium.webdriver.common.by import By\n",
    "import pandas as pd\n",
    "import time \n"
   ]
  },
  {
   "cell_type": "code",
   "execution_count": null,
   "id": "5747b7ef",
   "metadata": {},
   "outputs": [],
   "source": [
    "#run instance of Chrome\n",
    "wd = webdriver.Chrome(\"./chromedriver\")"
   ]
  },
  {
   "cell_type": "code",
   "execution_count": null,
   "id": "05cff52c",
   "metadata": {},
   "outputs": [],
   "source": [
    "#Get all proposals\n",
    "proposals_url = \"https://snapshot.org/#/tomoondao.eth\"\n",
    "\n",
    "wd.get(proposals_url)\n",
    "time.sleep(2)\n",
    "\n",
    "b = wd.find_element(by=By.TAG_NAME, value=\"body\")\n",
    "\n",
    "for i in range(100): #maybe set >100 \n",
    "    time.sleep(0.1)\n",
    "    b.send_keys(Keys.PAGE_DOWN)\n"
   ]
  },
  {
   "cell_type": "code",
   "execution_count": null,
   "id": "c9637771",
   "metadata": {},
   "outputs": [],
   "source": [
    "#all of the projects are here\n",
    "props = wd.find_elements_by_css_selector(\".bg-skin-block-bg.border-b\")\n"
   ]
  },
  {
   "cell_type": "code",
   "execution_count": null,
   "id": "0ee80de4",
   "metadata": {},
   "outputs": [],
   "source": [
    "#var to store extracted info \n",
    "proposals = []\n",
    "\n",
    "#extracting information about projects and storing it in the results\n",
    "for prop in props:\n",
    "    author = prop.find_element_by_css_selector(\"span.truncate\").text\n",
    "    core = prop.find_element_by_css_selector(\".border.ml-1\").text\n",
    "    status = prop.find_element_by_css_selector(\"span.State\").text\n",
    "    title = prop.find_element_by_css_selector(\".break-words.my-1\").text\n",
    "    preview = prop.find_element_by_css_selector(\".break-words.mb-2\").text\n",
    "    link = prop.find_element_by_css_selector(\"a.block.p-3\").get_attribute(\"href\")\n",
    "    \n",
    "    result = prop.find_elements_by_css_selector(\"span.flex span\")\n",
    "    if result:\n",
    "        result = result[0].text\n",
    "    \n",
    "    proposals.append({\n",
    "        \"author\": author,\n",
    "        \"affects\": core,\n",
    "        \"status\": status,\n",
    "        \"title\": title,\n",
    "        \"preview\": preview,\n",
    "        \"link\": link,\n",
    "        \"result\" : result,\n",
    "    })"
   ]
  },
  {
   "cell_type": "raw",
   "id": "d9ce8d2c-68ad-404b-b964-d15839f41c43",
   "metadata": {},
   "source": [
    "#TBD Parse responses\n",
    "\n",
    "options = wd.find_elements_by_css_selector(\".justify-between.mb-1\")\n",
    "responses = []\n",
    "for i in options:\n",
    "    response = option.find_element_by_css_selector(\".mr-1.truncate\").text\n",
    "    voted = option.find_element_by_css_selector(\"span.whitespace-nowrap\").text\n",
    "    persent = option.find_elements_by_css_selector(\"span\")[2].text\n",
    "    responses.append({\n",
    "\n",
    "#TBD Parse votes\n",
    "votes = wd.find_element_by_css_selector(\".bg-skin-text\").text        "
   ]
  },
  {
   "cell_type": "code",
   "execution_count": null,
   "id": "6e093588-783c-48d5-b5e7-77ccd1e5f8b3",
   "metadata": {},
   "outputs": [],
   "source": [
    "#Open each project's page to extract additional information\n",
    "for prop in proposals:\n",
    "    wd.get(prop['link'])\n",
    "    time.sleep(2)\n",
    "    \n",
    "    ipfs = wd.find_elements_by_css_selector(\"a.float-right.whitespace-nowrap\")[0].get_attribute('href')\n",
    "    snapshot = wd.find_elements_by_css_selector(\"a.float-right.whitespace-nowrap\")[1].get_attribute('href')\n",
    "    author_nick = wd.find_elements_by_css_selector(\".truncate.w-full\")[0].text\n",
    "    \n",
    "    discussion = wd.find_elements_by_css_selector(\".py-4 a.whitespace-nowrap\")\n",
    "    if len(discussion):\n",
    "        discussion = discussion[0].get_attribute('href')\n",
    "\n",
    "    text = wd.find_element_by_css_selector(\"div.break-words\").text\n",
    "    voting_system = wd.find_elements_by_css_selector(\"span.float-right.text-skin-link\")[1].text\n",
    "    start_date = wd.find_elements_by_css_selector(\"span.float-right.text-skin-link\")[2].text\n",
    "    end_data = wd.find_elements_by_css_selector(\"span.float-right.text-skin-link\")[3].text\n",
    "    \n",
    "    b = wd.find_element_by_tag_name(\"body\")\n",
    "    for i in range(20):\n",
    "        time.sleep(0.1)\n",
    "        b.send_keys(Keys.PAGE_DOWN)\n",
    "        \n",
    "    votes = wd.find_element_by_css_selector(\".bg-skin-text\").text\n",
    "    \n",
    "    prop[\"ipfs\"] = ipfs\n",
    "    prop[\"snapshot\"] = snapshot\n",
    "    prop[\"discussion\"] = discussion\n",
    "    prop[\"text\"] = text\n",
    "    prop[\"voting_system\"] = voting_system\n",
    "    prop[\"start_date\"] = start_date\n",
    "    prop[\"end_data\"] = end_data\n",
    "    prop[\"votes\"] = votes\n",
    "    prop[\"author_nick\"] = author_nick \n",
    "    \n",
    "    "
   ]
  },
  {
   "cell_type": "code",
   "execution_count": null,
   "id": "ddb9af6f-b2c7-4d17-987c-6a69621fe090",
   "metadata": {},
   "outputs": [],
   "source": [
    "#Save results to csv\n",
    "data = pd.DataFrame(proposals)\n",
    "\n",
    "data = data[::-1]  #reversing order so rows are chronological\n",
    "\n",
    "data.to_csv(\"moondao-data.csv\", index=False)"
   ]
  }
 ],
 "metadata": {
  "kernelspec": {
   "display_name": "Python 3 (ipykernel)",
   "language": "python",
   "name": "python3"
  },
  "language_info": {
   "codemirror_mode": {
    "name": "ipython",
    "version": 3
   },
   "file_extension": ".py",
   "mimetype": "text/x-python",
   "name": "python",
   "nbconvert_exporter": "python",
   "pygments_lexer": "ipython3",
   "version": "3.9.12"
  }
 },
 "nbformat": 4,
 "nbformat_minor": 5
}
